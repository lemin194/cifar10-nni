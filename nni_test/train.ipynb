{
 "cells": [
  {
   "cell_type": "code",
   "execution_count": null,
   "metadata": {},
   "outputs": [],
   "source": [
    "!pip list"
   ]
  },
  {
   "cell_type": "code",
   "execution_count": null,
   "metadata": {},
   "outputs": [],
   "source": [
    "import torch"
   ]
  },
  {
   "cell_type": "code",
   "execution_count": 2,
   "metadata": {},
   "outputs": [
    {
     "name": "stdout",
     "output_type": "stream",
     "text": [
      "Defaulting to user installation because normal site-packages is not writeable\n",
      "Looking in indexes: https://download.pytorch.org/whl/cu118\n",
      "Requirement already satisfied: torch in /home/automl/.local/lib/python3.10/site-packages (2.0.1)\n",
      "Requirement already satisfied: torchvision in /home/automl/.local/lib/python3.10/site-packages (0.15.2)\n",
      "Collecting torchaudio\n",
      "  Downloading https://download.pytorch.org/whl/cu118/torchaudio-2.0.2%2Bcu118-cp310-cp310-linux_x86_64.whl (4.4 MB)\n",
      "\u001b[2K     \u001b[90m━━━━━━━━━━━━━━━━━━━━━━━━━━━━━━━━━━━━━━━━\u001b[0m \u001b[32m4.4/4.4 MB\u001b[0m \u001b[31m2.4 MB/s\u001b[0m eta \u001b[36m0:00:00\u001b[0m00:01\u001b[0m00:01\u001b[0m0m\n",
      "\u001b[?25hRequirement already satisfied: filelock in /home/automl/.local/lib/python3.10/site-packages (from torch) (3.11.0)\n",
      "Requirement already satisfied: typing-extensions in /home/automl/.local/lib/python3.10/site-packages (from torch) (4.8.0)\n",
      "Requirement already satisfied: sympy in /home/automl/.local/lib/python3.10/site-packages (from torch) (1.12)\n",
      "Requirement already satisfied: networkx in /home/automl/.local/lib/python3.10/site-packages (from torch) (3.1)\n",
      "Requirement already satisfied: jinja2 in /home/automl/.local/lib/python3.10/site-packages (from torch) (3.1.2)\n",
      "Requirement already satisfied: nvidia-cuda-nvrtc-cu11==11.7.99 in /home/automl/.local/lib/python3.10/site-packages (from torch) (11.7.99)\n",
      "Requirement already satisfied: nvidia-cuda-runtime-cu11==11.7.99 in /home/automl/.local/lib/python3.10/site-packages (from torch) (11.7.99)\n",
      "Requirement already satisfied: nvidia-cuda-cupti-cu11==11.7.101 in /home/automl/.local/lib/python3.10/site-packages (from torch) (11.7.101)\n",
      "Requirement already satisfied: nvidia-cudnn-cu11==8.5.0.96 in /home/automl/.local/lib/python3.10/site-packages (from torch) (8.5.0.96)\n",
      "Requirement already satisfied: nvidia-cublas-cu11==11.10.3.66 in /home/automl/.local/lib/python3.10/site-packages (from torch) (11.10.3.66)\n",
      "Requirement already satisfied: nvidia-cufft-cu11==10.9.0.58 in /home/automl/.local/lib/python3.10/site-packages (from torch) (10.9.0.58)\n",
      "Requirement already satisfied: nvidia-curand-cu11==10.2.10.91 in /home/automl/.local/lib/python3.10/site-packages (from torch) (10.2.10.91)\n",
      "Requirement already satisfied: nvidia-cusolver-cu11==11.4.0.1 in /home/automl/.local/lib/python3.10/site-packages (from torch) (11.4.0.1)\n",
      "Requirement already satisfied: nvidia-cusparse-cu11==11.7.4.91 in /home/automl/.local/lib/python3.10/site-packages (from torch) (11.7.4.91)\n",
      "Requirement already satisfied: nvidia-nccl-cu11==2.14.3 in /home/automl/.local/lib/python3.10/site-packages (from torch) (2.14.3)\n",
      "Requirement already satisfied: nvidia-nvtx-cu11==11.7.91 in /home/automl/.local/lib/python3.10/site-packages (from torch) (11.7.91)\n",
      "Requirement already satisfied: triton==2.0.0 in /home/automl/.local/lib/python3.10/site-packages (from torch) (2.0.0)\n",
      "Requirement already satisfied: setuptools in /home/automl/.local/lib/python3.10/site-packages (from nvidia-cublas-cu11==11.10.3.66->torch) (68.2.2)\n",
      "Requirement already satisfied: wheel in /usr/lib/python3/dist-packages (from nvidia-cublas-cu11==11.10.3.66->torch) (0.37.1)\n",
      "Requirement already satisfied: cmake in /home/automl/.local/lib/python3.10/site-packages (from triton==2.0.0->torch) (3.27.5)\n",
      "Requirement already satisfied: lit in /home/automl/.local/lib/python3.10/site-packages (from triton==2.0.0->torch) (17.0.1)\n",
      "Requirement already satisfied: numpy in /home/automl/.local/lib/python3.10/site-packages (from torchvision) (1.26.0)\n",
      "Requirement already satisfied: requests in /home/automl/.local/lib/python3.10/site-packages (from torchvision) (2.31.0)\n",
      "Requirement already satisfied: pillow!=8.3.*,>=5.3.0 in /usr/lib/python3/dist-packages (from torchvision) (9.0.1)\n",
      "Requirement already satisfied: MarkupSafe>=2.0 in /home/automl/.local/lib/python3.10/site-packages (from jinja2->torch) (2.1.3)\n",
      "Requirement already satisfied: charset-normalizer<4,>=2 in /home/automl/.local/lib/python3.10/site-packages (from requests->torchvision) (3.2.0)\n",
      "Requirement already satisfied: idna<4,>=2.5 in /usr/lib/python3/dist-packages (from requests->torchvision) (3.3)\n",
      "Requirement already satisfied: urllib3<3,>=1.21.1 in /home/automl/.local/lib/python3.10/site-packages (from requests->torchvision) (2.0.5)\n",
      "Requirement already satisfied: certifi>=2017.4.17 in /usr/lib/python3/dist-packages (from requests->torchvision) (2020.6.20)\n",
      "Requirement already satisfied: mpmath>=0.19 in /home/automl/.local/lib/python3.10/site-packages (from sympy->torch) (1.3.0)\n",
      "Installing collected packages: torchaudio\n",
      "Successfully installed torchaudio-2.0.2+cu118\n"
     ]
    }
   ],
   "source": [
    "!pip3 install torch torchvision torchaudio --index-url https://download.pytorch.org/whl/cu118"
   ]
  },
  {
   "cell_type": "code",
   "execution_count": 3,
   "metadata": {},
   "outputs": [
    {
     "name": "stdout",
     "output_type": "stream",
     "text": [
      "Defaulting to user installation because normal site-packages is not writeable\n",
      "Collecting nni==2.10\n",
      "  Downloading nni-2.10-py3-none-manylinux1_x86_64.whl (56.0 MB)\n",
      "\u001b[2K     \u001b[90m━━━━━━━━━━━━━━━━━━━━━━━━━━━━━━━━━━━━━━━━\u001b[0m \u001b[32m56.0/56.0 MB\u001b[0m \u001b[31m4.2 MB/s\u001b[0m eta \u001b[36m0:00:00\u001b[0m00:01\u001b[0m00:01\u001b[0m\n",
      "\u001b[?25hRequirement already satisfied: astor in /home/automl/.local/lib/python3.10/site-packages (from nni==2.10) (0.8.1)\n",
      "Requirement already satisfied: cloudpickle in /home/automl/.local/lib/python3.10/site-packages (from nni==2.10) (2.2.1)\n",
      "Requirement already satisfied: colorama in /usr/lib/python3/dist-packages (from nni==2.10) (0.4.4)\n",
      "Requirement already satisfied: filelock in /home/automl/.local/lib/python3.10/site-packages (from nni==2.10) (3.11.0)\n",
      "Requirement already satisfied: json-tricks>=3.15.5 in /home/automl/.local/lib/python3.10/site-packages (from nni==2.10) (3.17.3)\n",
      "Requirement already satisfied: packaging in /home/automl/.local/lib/python3.10/site-packages (from nni==2.10) (23.1)\n",
      "Requirement already satisfied: pandas in /home/automl/.local/lib/python3.10/site-packages (from nni==2.10) (2.1.1)\n",
      "Requirement already satisfied: prettytable in /home/automl/.local/lib/python3.10/site-packages (from nni==2.10) (3.9.0)\n",
      "Requirement already satisfied: psutil in /home/automl/.local/lib/python3.10/site-packages (from nni==2.10) (5.9.5)\n",
      "Requirement already satisfied: PythonWebHDFS in /home/automl/.local/lib/python3.10/site-packages (from nni==2.10) (0.2.3)\n",
      "Requirement already satisfied: pyyaml>=5.4 in /usr/lib/python3/dist-packages (from nni==2.10) (5.4.1)\n",
      "Requirement already satisfied: requests in /home/automl/.local/lib/python3.10/site-packages (from nni==2.10) (2.31.0)\n",
      "Requirement already satisfied: responses in /home/automl/.local/lib/python3.10/site-packages (from nni==2.10) (0.23.3)\n",
      "Requirement already satisfied: schema in /home/automl/.local/lib/python3.10/site-packages (from nni==2.10) (0.7.5)\n",
      "Requirement already satisfied: scikit-learn>=0.24.1 in /home/automl/.local/lib/python3.10/site-packages (from nni==2.10) (1.3.1)\n",
      "Requirement already satisfied: tqdm in /home/automl/.local/lib/python3.10/site-packages (from nni==2.10) (4.66.1)\n",
      "Requirement already satisfied: typeguard in /home/automl/.local/lib/python3.10/site-packages (from nni==2.10) (4.1.2)\n",
      "Requirement already satisfied: typing-extensions>=4.0.0 in /home/automl/.local/lib/python3.10/site-packages (from nni==2.10) (4.8.0)\n",
      "Requirement already satisfied: websockets>=10.1 in /home/automl/.local/lib/python3.10/site-packages (from nni==2.10) (11.0.3)\n",
      "Requirement already satisfied: numpy in /home/automl/.local/lib/python3.10/site-packages (from nni==2.10) (1.26.0)\n",
      "Requirement already satisfied: scipy in /home/automl/.local/lib/python3.10/site-packages (from nni==2.10) (1.11.2)\n"
     ]
    }
   ],
   "source": [
    "!pip install nni==2.10"
   ]
  },
  {
   "cell_type": "code",
   "execution_count": null,
   "metadata": {},
   "outputs": [],
   "source": [
    "l"
   ]
  }
 ],
 "metadata": {
  "kernelspec": {
   "display_name": "venv",
   "language": "python",
   "name": "venv"
  },
  "language_info": {
   "codemirror_mode": {
    "name": "ipython",
    "version": 3
   },
   "file_extension": ".py",
   "mimetype": "text/x-python",
   "name": "python",
   "nbconvert_exporter": "python",
   "pygments_lexer": "ipython3",
   "version": "3.10.12"
  },
  "orig_nbformat": 4
 },
 "nbformat": 4,
 "nbformat_minor": 2
}

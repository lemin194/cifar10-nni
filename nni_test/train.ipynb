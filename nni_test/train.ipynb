{
 "cells": [
  {
   "cell_type": "code",
   "execution_count": 3,
   "id": "0e109421",
   "metadata": {},
   "outputs": [
    {
     "name": "stdout",
     "output_type": "stream",
     "text": [
      "config.yaml  model_builder.py  search_space.json  utils.py\n",
      "main.py      \u001b[0m\u001b[01;34m__pycache__\u001b[0m/      train.ipynb\n"
     ]
    }
   ],
   "source": [
    "ls"
   ]
  },
  {
   "cell_type": "code",
   "execution_count": 6,
   "id": "2ec96679",
   "metadata": {},
   "outputs": [
    {
     "name": "stdout",
     "output_type": "stream",
     "text": [
      "Cloning into 'cifar10-nni'...\n",
      "remote: Enumerating objects: 9, done.\u001b[K\n",
      "remote: Counting objects: 100% (9/9), done.\u001b[K\n",
      "remote: Compressing objects: 100% (8/8), done.\u001b[K\n",
      "remote: Total 9 (delta 0), reused 9 (delta 0), pack-reused 0\u001b[K\n",
      "Receiving objects: 100% (9/9), 6.17 KiB | 6.17 MiB/s, done.\n"
     ]
    }
   ],
   "source": [
    "!mkdir ./Test/\n",
    "!cd ./Test\n",
    "!git clone https://github.com/lemin194/cifar10-nni\n"
   ]
  },
  {
   "cell_type": "code",
   "execution_count": 5,
   "id": "29bb20a5",
   "metadata": {},
   "outputs": [
    {
     "name": "stdout",
     "output_type": "stream",
     "text": [
      "\u001b[0m\u001b[01;34mcheckpoint\u001b[0m/         main.py           search_space.json  utils.py\n",
      "config.yaml         model_builder.py  test.py\n",
      "_example_args.json  \u001b[01;34m__pycache__\u001b[0m/      train.ipynb\n"
     ]
    }
   ],
   "source": [
    "ls"
   ]
  },
  {
   "cell_type": "code",
   "execution_count": 6,
   "id": "a52d6bd7",
   "metadata": {},
   "outputs": [
    {
     "name": "stdout",
     "output_type": "stream",
     "text": [
      "[2023-09-30 01:15:05] \u001b[32mCreating experiment, Experiment ID: \u001b[36m08ypcvu2\u001b[0m\n",
      "[2023-09-30 01:15:05] \u001b[32mStarting web server...\u001b[0m\n",
      "[2023-09-30 01:15:05] DEBUG (WsChannelServer.tuner) Start listening tuner/:channel\n",
      "[2023-09-30 01:15:05] INFO (main) Start NNI manager\n",
      "[2023-09-30 01:15:05] INFO (RestServer) Starting REST server at port 8080, URL prefix: \"/\"\n",
      "[2023-09-30 01:15:05] INFO (RestServer) REST server started.\n",
      "[2023-09-30 01:15:05] WARNING (NNITensorboardManager) Tensorboard may not installed, if you want to use tensorboard, please check if tensorboard installed.\n",
      "[2023-09-30 01:15:05] DEBUG (SqlDB) Database directory: /home/minhduck/nni-experiments/08ypcvu2/db\n",
      "[2023-09-30 01:15:05] INFO (NNIDataStore) Datastore initialization done\n",
      "[2023-09-30 01:15:05] DEBUG (main) start() returned.\n",
      "[2023-09-30 01:15:06] DEBUG (NNIRestHandler) GET: /check-status: body: {}\n",
      "[2023-09-30 01:15:06] \u001b[32mSetting up...\u001b[0m\n",
      "[2023-09-30 01:15:06] DEBUG (NNIRestHandler) POST: /experiment: body: {\n",
      "  experimentType: 'hpo',\n",
      "  searchSpaceFile: '/home/minhduck/Documents/projects/cifar10_test/nni_test/search_space.json',\n",
      "  searchSpace: {\n",
      "    lr: { _type: 'choice', _value: [Array] },\n",
      "    optimizer: { _type: 'choice', _value: [Array] },\n",
      "    conv2: { _type: 'choice', _value: [Array] },\n",
      "    fc1: { _type: 'choice', _value: [Array] },\n",
      "    dropout_rate: { _type: 'choice', _value: [Array] }\n",
      "  },\n",
      "  trialCommand: 'python3 main.py',\n",
      "  trialCodeDirectory: '/home/minhduck/Documents/projects/cifar10_test/nni_test',\n",
      "  trialConcurrency: 1,\n",
      "  trialGpuNumber: 0,\n",
      "  maxTrialNumber: 4,\n",
      "  useAnnotation: false,\n",
      "  debug: false,\n",
      "  logLevel: 'info',\n",
      "  experimentWorkingDirectory: '/home/minhduck/nni-experiments',\n",
      "  tuner: { name: 'Random', classArgs: { seed: 1697 } },\n",
      "  trainingService: {\n",
      "    platform: 'local',\n",
      "    trialCommand: 'python3 main.py',\n",
      "    trialCodeDirectory: '/home/minhduck/Documents/projects/cifar10_test/nni_test',\n",
      "    trialGpuNumber: 0,\n",
      "    debug: false,\n",
      "    maxTrialNumberPerGpu: 1,\n",
      "    reuseMode: false\n",
      "  }\n",
      "}\n",
      "[2023-09-30 01:15:06] INFO (NNIManager) Starting experiment: 08ypcvu2\n",
      "[2023-09-30 01:15:06] INFO (NNIManager) Setup training service...\n",
      "[2023-09-30 01:15:06] DEBUG (LocalV3.local) Training sevice config: {\n",
      "  platform: 'local',\n",
      "  trialCommand: 'python3 main.py',\n",
      "  trialCodeDirectory: '/home/minhduck/Documents/projects/cifar10_test/nni_test',\n",
      "  trialGpuNumber: 0,\n",
      "  debug: false,\n",
      "  maxTrialNumberPerGpu: 1,\n",
      "  reuseMode: false\n",
      "}\n",
      "[2023-09-30 01:15:06] INFO (NNIManager) Setup tuner...\n",
      "[2023-09-30 01:15:06] DEBUG (NNIManager) dispatcher command: /home/minhduck/Documents/projects/cifar10_test/torch_venv/bin/python3,-m,nni,--exp_params,eyJleHBlcmltZW50VHlwZSI6ImhwbyIsInNlYXJjaFNwYWNlRmlsZSI6Ii9ob21lL21pbmhkdWNrL0RvY3VtZW50cy9wcm9qZWN0cy9jaWZhcjEwX3Rlc3Qvbm5pX3Rlc3Qvc2VhcmNoX3NwYWNlLmpzb24iLCJ0cmlhbENvbW1hbmQiOiJweXRob24zIG1haW4ucHkiLCJ0cmlhbENvZGVEaXJlY3RvcnkiOiIvaG9tZS9taW5oZHVjay9Eb2N1bWVudHMvcHJvamVjdHMvY2lmYXIxMF90ZXN0L25uaV90ZXN0IiwidHJpYWxDb25jdXJyZW5jeSI6MSwidHJpYWxHcHVOdW1iZXIiOjAsIm1heFRyaWFsTnVtYmVyIjo0LCJ1c2VBbm5vdGF0aW9uIjpmYWxzZSwiZGVidWciOmZhbHNlLCJsb2dMZXZlbCI6ImluZm8iLCJleHBlcmltZW50V29ya2luZ0RpcmVjdG9yeSI6Ii9ob21lL21pbmhkdWNrL25uaS1leHBlcmltZW50cyIsInR1bmVyIjp7Im5hbWUiOiJSYW5kb20iLCJjbGFzc0FyZ3MiOnsic2VlZCI6MTY5N319LCJ0cmFpbmluZ1NlcnZpY2UiOnsicGxhdGZvcm0iOiJsb2NhbCIsInRyaWFsQ29tbWFuZCI6InB5dGhvbjMgbWFpbi5weSIsInRyaWFsQ29kZURpcmVjdG9yeSI6Ii9ob21lL21pbmhkdWNrL0RvY3VtZW50cy9wcm9qZWN0cy9jaWZhcjEwX3Rlc3Qvbm5pX3Rlc3QiLCJ0cmlhbEdwdU51bWJlciI6MCwiZGVidWciOmZhbHNlLCJtYXhUcmlhbE51bWJlclBlckdwdSI6MSwicmV1c2VNb2RlIjpmYWxzZX19\n",
      "[2023-09-30 01:15:06] INFO (NNIManager) Change NNIManager status from: INITIALIZED to: RUNNING\n",
      "[2023-09-30 01:15:06] DEBUG (tuner_command_channel) Waiting connection...\n",
      "[2023-09-30 01:15:06] \u001b[32mWeb portal URLs: \u001b[36mhttp://127.0.0.1:8080 http://192.168.0.100:8080\u001b[0m\n",
      "[2023-09-30 01:15:06] DEBUG (NNIRestHandler) GET: /check-status: body: {}\n",
      "[2023-09-30 01:15:06] DEBUG (WsChannelServer.tuner) Incoming connection __default__\n",
      "[2023-09-30 01:15:06] DEBUG (WsChannel.__default__) Epoch 0 start\n",
      "[2023-09-30 01:15:06] INFO (NNIManager) Add event listeners\n",
      "[2023-09-30 01:15:06] DEBUG (NNIManager) Send tuner command: INITIALIZE: [object Object]\n",
      "[2023-09-30 01:15:06] INFO (LocalV3.local) Start\n",
      "[2023-09-30 01:15:06] INFO (NNIManager) NNIManager received command from dispatcher: ID, \n",
      "[2023-09-30 01:15:06] INFO (NNIManager) NNIManager received command from dispatcher: TR, {\"parameter_id\": 0, \"parameter_source\": \"algorithm\", \"parameters\": {\"lr\": 0.0005, \"optimizer\": \"Adam\", \"conv2\": \"normal\", \"fc1\": 96, \"dropout_rate\": 0.1}, \"parameter_index\": 0}\n",
      "[2023-09-30 01:15:07] INFO (NNIManager) submitTrialJob: form: {\n",
      "  sequenceId: 0,\n",
      "  hyperParameters: {\n",
      "    value: '{\"parameter_id\": 0, \"parameter_source\": \"algorithm\", \"parameters\": {\"lr\": 0.0005, \"optimizer\": \"Adam\", \"conv2\": \"normal\", \"fc1\": 96, \"dropout_rate\": 0.1}, \"parameter_index\": 0}',\n",
      "    index: 0\n",
      "  },\n",
      "  placementConstraint: { type: 'None', gpus: [] }\n",
      "}\n",
      "[2023-09-30 01:15:07] INFO (LocalV3.local) Register directory trial_code = /home/minhduck/Documents/projects/cifar10_test/nni_test\n",
      "[2023-09-30 01:15:07] INFO (LocalV3.local) Created trial GTRPo\n",
      "[2023-09-30 01:15:10] INFO (LocalV3.local) Trial parameter: GTRPo {\"parameter_id\": 0, \"parameter_source\": \"algorithm\", \"parameters\": {\"lr\": 0.0005, \"optimizer\": \"Adam\", \"conv2\": \"normal\", \"fc1\": 96, \"dropout_rate\": 0.1}, \"parameter_index\": 0}\n",
      "[2023-09-30 01:15:16] DEBUG (NNIRestHandler) GET: /check-status: body: {}\n",
      "[2023-09-30 01:15:26] DEBUG (NNIRestHandler) GET: /check-status: body: {}\n",
      "[2023-09-30 01:15:36] DEBUG (NNIRestHandler) GET: /check-status: body: {}\n",
      "[2023-09-30 01:15:46] DEBUG (NNIRestHandler) GET: /check-status: body: {}\n",
      "[2023-09-30 01:15:56] DEBUG (NNIRestHandler) GET: /check-status: body: {}\n",
      "[2023-09-30 01:16:06] DEBUG (NNIRestHandler) GET: /check-status: body: {}\n",
      "[2023-09-30 01:16:16] DEBUG (NNIRestHandler) GET: /check-status: body: {}\n",
      "[2023-09-30 01:16:26] DEBUG (NNIRestHandler) GET: /check-status: body: {}\n",
      "[2023-09-30 01:16:34] DEBUG (NNIManager) NNIManager received trial job metrics: {\n",
      "  id: 'GTRPo',\n",
      "  data: '{\"parameter_id\": 0, \"trial_job_id\": \"GTRPo\", \"type\": \"PERIODICAL\", \"sequence\": 0, \"value\": \"54.62\"}'\n",
      "}\n",
      "[2023-09-30 01:16:36] DEBUG (NNIRestHandler) GET: /check-status: body: {}\n",
      "[2023-09-30 01:16:46] DEBUG (NNIRestHandler) GET: /check-status: body: {}\n",
      "[2023-09-30 01:16:56] DEBUG (NNIRestHandler) GET: /check-status: body: {}\n",
      "[2023-09-30 01:17:06] DEBUG (NNIRestHandler) GET: /check-status: body: {}\n",
      "[2023-09-30 01:17:16] DEBUG (NNIRestHandler) GET: /check-status: body: {}\n",
      "[2023-09-30 01:17:26] DEBUG (NNIRestHandler) GET: /check-status: body: {}\n",
      "[2023-09-30 01:17:36] DEBUG (NNIRestHandler) GET: /check-status: body: {}\n",
      "^C\n",
      "Traceback (most recent call last):\n",
      "\u001b[0m  File \"/home/minhduck/Documents/projects/cifar10_test/torch_venv/bin/nnictl\", line 8, in <module>\n",
      "\u001b[0m    \u001b[0msys.exit(parse_args())\u001b[0m\n",
      "\u001b[0m  File \"/home/minhduck/Documents/projects/cifar10_test/torch_venv/lib/python3.10/site-packages/nni/tools/nnictl/nnictl.py\", line 497, in parse_args\n",
      "\u001b[0m    \u001b[0margs.func(args)\u001b[0m\n",
      "\u001b[0m  File \"/home/minhduck/Documents/projects/cifar10_test/torch_venv/lib/python3.10/site-packages/nni/tools/nnictl/launcher.py\", line 79, in create_experiment\n",
      "\u001b[0m    \u001b[0mexp._wait_completion()\u001b[0m\n",
      "\u001b[0m  File \"/home/minhduck/Documents/projects/cifar10_test/torch_venv/lib/python3.10/site-packages/nni/experiment/experiment.py\", line 201, in _wait_completion\n",
      "\u001b[0m    \u001b[0mtime.sleep(10)\u001b[0m\n",
      "\u001b[0mKeyboardInterrupt\u001b[0m\u001b[0m\n",
      "\u001b[0m[2023-09-30 01:17:41] \u001b[32mStopping experiment, please wait...\u001b[0m\n",
      "[2023-09-30 01:17:41] \u001b[32mSaving experiment checkpoint...\u001b[0m\n",
      "[2023-09-30 01:17:41] \u001b[32mStopping NNI manager, if any...\u001b[0m\n",
      "[2023-09-30 01:17:41] DEBUG (NNIRestHandler) DELETE: /experiment: body: {}\n",
      "[2023-09-30 01:17:41] INFO (ShutdownManager) Initiate shutdown: REST request\n",
      "[2023-09-30 01:17:41] INFO (RestServer) Stopping REST server.\n",
      "[2023-09-30 01:17:41] INFO (NNIManager) Change NNIManager status from: RUNNING to: STOPPING\n",
      "[2023-09-30 01:17:41] INFO (NNIManager) Stopping experiment, cleaning up ...\n",
      "[2023-09-30 01:17:41] DEBUG (WsChannel.__default__) Close channel: TE command\n",
      "[2023-09-30 01:17:41] DEBUG (WsConnection.__default__) Close connection: TE command\n",
      "[2023-09-30 01:17:41] DEBUG (WsChannelServer.tuner) Connection __default__ closed: TE command\n",
      "[2023-09-30 01:17:41] DEBUG (experiments_manager) Experiment manager: all clean up\n",
      "[2023-09-30 01:17:41] INFO (RestServer) REST server stopped.\n",
      "[2023-09-30 01:17:41] DEBUG (WsConnection.__default__) Connection closed\n"
     ]
    }
   ],
   "source": [
    "!nnictl create --config ./config.yaml --port 8080 --foreground --debug"
   ]
  },
  {
   "cell_type": "code",
   "execution_count": 27,
   "id": "dc138398",
   "metadata": {},
   "outputs": [
    {
     "name": "stdout",
     "output_type": "stream",
     "text": [
      "\u001b[0m"
     ]
    }
   ],
   "source": [
    "!nnictl stop --all"
   ]
  },
  {
   "cell_type": "code",
   "execution_count": 28,
   "id": "e9f27b40",
   "metadata": {},
   "outputs": [
    {
     "name": "stdout",
     "output_type": "stream",
     "text": [
      "True\n"
     ]
    }
   ],
   "source": [
    "import torch\n",
    "print(torch.cuda.is_available())"
   ]
  },
  {
   "cell_type": "code",
   "execution_count": 29,
   "id": "c2e4db47",
   "metadata": {},
   "outputs": [
    {
     "name": "stdout",
     "output_type": "stream",
     "text": [
      "\u001b[33mWARNING: There is no experiment running...\n",
      "You can use 'nnictl experiment list --all' to list all experiments.\u001b[39m\u001b[0m\n",
      "\u001b[0m----------------------------------------------------------------------------------------\n",
      "                Experiment information\n",
      "\n",
      "----------------------------------------------------------------------------------------\n",
      "\u001b[0m\n",
      "\u001b[0m\u001b[0m"
     ]
    }
   ],
   "source": [
    "!nnictl experiment list"
   ]
  },
  {
   "cell_type": "code",
   "execution_count": null,
   "id": "087da6f7",
   "metadata": {},
   "outputs": [],
   "source": []
  }
 ],
 "metadata": {
  "kernelspec": {
   "display_name": "Python 3 (ipykernel)",
   "language": "python",
   "name": "python3"
  },
  "language_info": {
   "codemirror_mode": {
    "name": "ipython",
    "version": 3
   },
   "file_extension": ".py",
   "mimetype": "text/x-python",
   "name": "python",
   "nbconvert_exporter": "python",
   "pygments_lexer": "ipython3",
   "version": "3.10.12"
  }
 },
 "nbformat": 4,
 "nbformat_minor": 5
}

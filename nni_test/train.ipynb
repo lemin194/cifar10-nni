{
 "cells": [
  {
   "cell_type": "code",
   "execution_count": 32,
   "id": "a52d6bd7",
   "metadata": {},
   "outputs": [
    {
     "name": "stdout",
     "output_type": "stream",
     "text": [
      "[2023-09-29 23:14:36] \u001b[32mCreating experiment, Experiment ID: \u001b[36mk1u0r3fi\u001b[0m\n",
      "[2023-09-29 23:14:36] \u001b[32mStarting web server...\u001b[0m\n",
      "[2023-09-29 23:14:36] INFO (main) Start NNI manager\n",
      "[2023-09-29 23:14:36] INFO (RestServer) Starting REST server at port 8080, URL prefix: \"/\"\n",
      "[2023-09-29 23:14:36] INFO (RestServer) REST server started.\n",
      "[2023-09-29 23:14:36] WARNING (NNITensorboardManager) Tensorboard may not installed, if you want to use tensorboard, please check if tensorboard installed.\n",
      "[2023-09-29 23:14:36] INFO (NNIDataStore) Datastore initialization done\n",
      "[2023-09-29 23:14:37] \u001b[32mSetting up...\u001b[0m\n",
      "[2023-09-29 23:14:37] INFO (NNIManager) Starting experiment: k1u0r3fi\n",
      "[2023-09-29 23:14:37] INFO (NNIManager) Setup training service...\n",
      "[2023-09-29 23:14:37] INFO (NNIManager) Setup tuner...\n",
      "[2023-09-29 23:14:37] INFO (NNIManager) Change NNIManager status from: INITIALIZED to: RUNNING\n",
      "[2023-09-29 23:14:37] \u001b[32mWeb portal URLs: \u001b[36mhttp://127.0.0.1:8080 http://192.168.0.100:8080\u001b[0m\n",
      "[2023-09-29 23:14:38] INFO (NNIManager) Add event listeners\n",
      "[2023-09-29 23:14:38] INFO (LocalV3.local) Start\n",
      "[2023-09-29 23:14:38] INFO (NNIManager) NNIManager received command from dispatcher: ID, \n",
      "[2023-09-29 23:14:38] INFO (NNIManager) NNIManager received command from dispatcher: TR, {\"parameter_id\": 0, \"parameter_source\": \"algorithm\", \"parameters\": {\"lr\": 0.0005, \"optimizer\": \"Adagrad\", \"conv2\": \"normal\", \"fc1\": 128}, \"parameter_index\": 0}\n",
      "[2023-09-29 23:14:38] INFO (NNIManager) submitTrialJob: form: {\n",
      "  sequenceId: 0,\n",
      "  hyperParameters: {\n",
      "    value: '{\"parameter_id\": 0, \"parameter_source\": \"algorithm\", \"parameters\": {\"lr\": 0.0005, \"optimizer\": \"Adagrad\", \"conv2\": \"normal\", \"fc1\": 128}, \"parameter_index\": 0}',\n",
      "    index: 0\n",
      "  },\n",
      "  placementConstraint: { type: 'None', gpus: [] }\n",
      "}\n",
      "[2023-09-29 23:14:39] INFO (LocalV3.local) Register directory trial_code = /home/minhduck/Documents/projects/cifar10_test/nni_test\n",
      "[2023-09-29 23:14:39] INFO (LocalV3.local) Created trial aEezZ\n",
      "[2023-09-29 23:14:41] INFO (LocalV3.local) Trial parameter: aEezZ {\"parameter_id\": 0, \"parameter_source\": \"algorithm\", \"parameters\": {\"lr\": 0.0005, \"optimizer\": \"Adagrad\", \"conv2\": \"normal\", \"fc1\": 128}, \"parameter_index\": 0}\n",
      "[2023-09-29 23:14:43] INFO (NNIManager) Trial job aEezZ status changed from RUNNING to FAILED\n",
      "[2023-09-29 23:14:43] INFO (NNIManager) NNIManager received command from dispatcher: TR, {\"parameter_id\": 1, \"parameter_source\": \"algorithm\", \"parameters\": {\"lr\": 0.002, \"optimizer\": \"Adagrad\", \"conv2\": \"depthwise\", \"fc1\": 96}, \"parameter_index\": 0}\n",
      "[2023-09-29 23:14:43] INFO (NNIManager) submitTrialJob: form: {\n",
      "  sequenceId: 1,\n",
      "  hyperParameters: {\n",
      "    value: '{\"parameter_id\": 1, \"parameter_source\": \"algorithm\", \"parameters\": {\"lr\": 0.002, \"optimizer\": \"Adagrad\", \"conv2\": \"depthwise\", \"fc1\": 96}, \"parameter_index\": 0}',\n",
      "    index: 0\n",
      "  },\n",
      "  placementConstraint: { type: 'None', gpus: [] }\n",
      "}\n",
      "[2023-09-29 23:14:43] INFO (LocalV3.local) Created trial a6ar8\n",
      "[2023-09-29 23:14:45] INFO (LocalV3.local) Trial parameter: a6ar8 {\"parameter_id\": 1, \"parameter_source\": \"algorithm\", \"parameters\": {\"lr\": 0.002, \"optimizer\": \"Adagrad\", \"conv2\": \"depthwise\", \"fc1\": 96}, \"parameter_index\": 0}\n",
      "[2023-09-29 23:14:47] INFO (NNIManager) Trial job a6ar8 status changed from RUNNING to FAILED\n",
      "[2023-09-29 23:14:47] INFO (NNIManager) NNIManager received command from dispatcher: TR, {\"parameter_id\": 2, \"parameter_source\": \"algorithm\", \"parameters\": {\"lr\": 0.0005, \"optimizer\": \"Adadelta\", \"conv2\": \"normal\", \"fc1\": 128}, \"parameter_index\": 0}\n",
      "[2023-09-29 23:14:48] INFO (NNIManager) submitTrialJob: form: {\n",
      "  sequenceId: 2,\n",
      "  hyperParameters: {\n",
      "    value: '{\"parameter_id\": 2, \"parameter_source\": \"algorithm\", \"parameters\": {\"lr\": 0.0005, \"optimizer\": \"Adadelta\", \"conv2\": \"normal\", \"fc1\": 128}, \"parameter_index\": 0}',\n",
      "    index: 0\n",
      "  },\n",
      "  placementConstraint: { type: 'None', gpus: [] }\n",
      "}\n",
      "[2023-09-29 23:14:48] INFO (LocalV3.local) Created trial meLjo\n",
      "[2023-09-29 23:14:50] INFO (LocalV3.local) Trial parameter: meLjo {\"parameter_id\": 2, \"parameter_source\": \"algorithm\", \"parameters\": {\"lr\": 0.0005, \"optimizer\": \"Adadelta\", \"conv2\": \"normal\", \"fc1\": 128}, \"parameter_index\": 0}\n",
      "[2023-09-29 23:14:52] INFO (NNIManager) Trial job meLjo status changed from RUNNING to FAILED\n",
      "[2023-09-29 23:14:52] INFO (NNIManager) NNIManager received command from dispatcher: TR, {\"parameter_id\": 3, \"parameter_source\": \"algorithm\", \"parameters\": {\"lr\": 0.001, \"optimizer\": \"Adam\", \"conv2\": \"depthwise\", \"fc1\": 128}, \"parameter_index\": 0}\n",
      "[2023-09-29 23:14:52] INFO (NNIManager) submitTrialJob: form: {\n",
      "  sequenceId: 3,\n",
      "  hyperParameters: {\n",
      "    value: '{\"parameter_id\": 3, \"parameter_source\": \"algorithm\", \"parameters\": {\"lr\": 0.001, \"optimizer\": \"Adam\", \"conv2\": \"depthwise\", \"fc1\": 128}, \"parameter_index\": 0}',\n",
      "    index: 0\n",
      "  },\n",
      "  placementConstraint: { type: 'None', gpus: [] }\n",
      "}\n",
      "[2023-09-29 23:14:52] INFO (LocalV3.local) Created trial Ej9zp\n",
      "[2023-09-29 23:14:53] INFO (NNIManager) Change NNIManager status from: RUNNING to: NO_MORE_TRIAL\n",
      "[2023-09-29 23:14:54] INFO (LocalV3.local) Trial parameter: Ej9zp {\"parameter_id\": 3, \"parameter_source\": \"algorithm\", \"parameters\": {\"lr\": 0.001, \"optimizer\": \"Adam\", \"conv2\": \"depthwise\", \"fc1\": 128}, \"parameter_index\": 0}\n",
      "[2023-09-29 23:14:56] INFO (NNIManager) Trial job Ej9zp status changed from RUNNING to FAILED\n",
      "[2023-09-29 23:14:56] INFO (NNIManager) Change NNIManager status from: NO_MORE_TRIAL to: DONE\n",
      "[2023-09-29 23:14:56] INFO (NNIManager) Experiment done.\n",
      "[2023-09-29 23:14:57] \u001b[32mStopping experiment, please wait...\u001b[0m\n",
      "[2023-09-29 23:14:57] \u001b[32mSaving experiment checkpoint...\u001b[0m\n",
      "[2023-09-29 23:14:57] \u001b[32mStopping NNI manager, if any...\u001b[0m\n",
      "[2023-09-29 23:14:57] INFO (ShutdownManager) Initiate shutdown: REST request\n",
      "[2023-09-29 23:14:57] INFO (RestServer) Stopping REST server.\n",
      "[2023-09-29 23:14:57] INFO (NNIManager) Change NNIManager status from: DONE to: STOPPING\n",
      "[2023-09-29 23:14:57] INFO (NNIManager) Stopping experiment, cleaning up ...\n",
      "[2023-09-29 23:14:57] INFO (RestServer) REST server stopped.\n",
      "[2023-09-29 23:14:59] INFO (LocalV3.local) All trials stopped\n",
      "[2023-09-29 23:14:59] INFO (NNIManager) Change NNIManager status from: STOPPING to: STOPPED\n",
      "[2023-09-29 23:14:59] INFO (NNIManager) Experiment stopped.\n",
      "[2023-09-29 23:14:59] INFO (NNITensorboardManager) Forced stopping all tensorboard task.\n",
      "[2023-09-29 23:14:59] INFO (NNITensorboardManager) All tensorboard task stopped.\n",
      "[2023-09-29 23:14:59] INFO (NNITensorboardManager) Tensorboard manager stopped.\n",
      "[2023-09-29 23:14:59] INFO (ShutdownManager) Shutdown complete.\n",
      "[2023-09-29 23:14:59] \u001b[32mExperiment stopped.\u001b[0m\n",
      "\u001b[0m\u001b[0m"
     ]
    }
   ],
   "source": [
    "!nnictl create --config ./config.yaml --port 8080 --foreground"
   ]
  },
  {
   "cell_type": "code",
   "execution_count": 27,
   "id": "dc138398",
   "metadata": {},
   "outputs": [
    {
     "name": "stdout",
     "output_type": "stream",
     "text": [
      "\u001b[0m"
     ]
    }
   ],
   "source": [
    "!nnictl stop --all"
   ]
  },
  {
   "cell_type": "code",
   "execution_count": 28,
   "id": "e9f27b40",
   "metadata": {},
   "outputs": [
    {
     "name": "stdout",
     "output_type": "stream",
     "text": [
      "True\n"
     ]
    }
   ],
   "source": [
    "import torch\n",
    "print(torch.cuda.is_available())"
   ]
  },
  {
   "cell_type": "code",
   "execution_count": 29,
   "id": "c2e4db47",
   "metadata": {},
   "outputs": [
    {
     "name": "stdout",
     "output_type": "stream",
     "text": [
      "\u001b[33mWARNING: There is no experiment running...\n",
      "You can use 'nnictl experiment list --all' to list all experiments.\u001b[39m\u001b[0m\n",
      "\u001b[0m----------------------------------------------------------------------------------------\n",
      "                Experiment information\n",
      "\n",
      "----------------------------------------------------------------------------------------\n",
      "\u001b[0m\n",
      "\u001b[0m\u001b[0m"
     ]
    }
   ],
   "source": [
    "!nnictl experiment list"
   ]
  },
  {
   "cell_type": "code",
   "execution_count": null,
   "id": "087da6f7",
   "metadata": {},
   "outputs": [],
   "source": []
  }
 ],
 "metadata": {
  "kernelspec": {
   "display_name": "Python 3",
   "language": "python",
   "name": "python3"
  },
  "language_info": {
   "codemirror_mode": {
    "name": "ipython",
    "version": 3
   },
   "file_extension": ".py",
   "mimetype": "text/x-python",
   "name": "python",
   "nbconvert_exporter": "python",
   "pygments_lexer": "ipython3",
   "version": "3.10.12"
  }
 },
 "nbformat": 4,
 "nbformat_minor": 5
}
